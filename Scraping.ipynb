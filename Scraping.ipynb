{
  "nbformat": 4,
  "nbformat_minor": 0,
  "metadata": {
    "colab": {
      "provenance": []
    },
    "kernelspec": {
      "name": "python3",
      "display_name": "Python 3"
    },
    "language_info": {
      "name": "python"
    }
  },
  "cells": [
    {
      "cell_type": "code",
      "source": [
        "!pip freeze > requirements.txt\n",
        "!pip install google-play-scraper\n",
        "import pandas as pd\n",
        "from google_play_scraper import reviews\n"
      ],
      "metadata": {
        "colab": {
          "base_uri": "https://localhost:8080/"
        },
        "id": "ACr4eWsy-wBg",
        "outputId": "e56b4a0f-3a24-40ad-c4a9-8ac69dc3f5d0"
      },
      "execution_count": 4,
      "outputs": [
        {
          "output_type": "stream",
          "name": "stdout",
          "text": [
            "Requirement already satisfied: google-play-scraper in /usr/local/lib/python3.11/dist-packages (1.2.7)\n"
          ]
        }
      ]
    },
    {
      "cell_type": "code",
      "source": [
        "result, _ = reviews(\n",
        "    'com.dafturn.mypertamina',\n",
        "    count=20000,\n",
        "    lang='id',\n",
        "    country='id'\n",
        ")\n",
        "\n",
        "\n",
        "df = pd.DataFrame(result)\n",
        "df.to_csv(\"myPertamina.csv\", index=False)\n"
      ],
      "metadata": {
        "id": "YWrIEn3G-zxa"
      },
      "execution_count": 5,
      "outputs": []
    }
  ]
}